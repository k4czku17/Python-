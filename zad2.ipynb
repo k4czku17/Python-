{
 "cells": [
  {
   "cell_type": "code",
   "execution_count": 42,
   "id": "c71b7011-dca5-490b-879d-3ce2ab6e0138",
   "metadata": {},
   "outputs": [],
   "source": [
    "import sqlite3\n",
    "conn = sqlite3.connect('baza.db')\n",
    "\n",
    "c = conn.cursor()"
   ]
  },
  {
   "cell_type": "code",
   "execution_count": 43,
   "id": "75ed7d2d-bb74-4f09-93f9-b9ee091a59fd",
   "metadata": {},
   "outputs": [
    {
     "data": {
      "text/plain": [
       "<sqlite3.Cursor at 0x7fa6f1aff2d0>"
      ]
     },
     "execution_count": 43,
     "metadata": {},
     "output_type": "execute_result"
    }
   ],
   "source": [
    "#tworzenie tabeli\n",
    "c.execute('''CREATE TABLE sklep\n",
    "             (nazwa TEXT, artykul_id INTEGER, cena REAL, KrajPochodzenia)''')"
   ]
  },
  {
   "cell_type": "code",
   "execution_count": 44,
   "id": "ce3349cd-a1ac-41cb-9a51-2bef6fbd1d86",
   "metadata": {},
   "outputs": [
    {
     "data": {
      "text/plain": [
       "<sqlite3.Cursor at 0x7fa6f1aff2d0>"
      ]
     },
     "execution_count": 44,
     "metadata": {},
     "output_type": "execute_result"
    }
   ],
   "source": [
    "#dodawanie danych\n",
    "c.execute(\"\"\"INSERT INTO sklep VALUES \n",
    "        ('Biedronka', 69, 25.40, 'Polska')\"\"\")\n",
    "c.execute(\"\"\"INSERT INTO sklep VALUES \n",
    "        ('Lidl', 21, 13.02, 'Rosja')\"\"\")\n",
    "c.execute(\"\"\"INSERT INTO sklep VALUES \n",
    "        ('Tesco', 1435, 0.99, 'Ukraina')\"\"\")\n",
    "c.execute(\"\"\"INSERT INTO sklep VALUES \n",
    "        ('Hipernova', 1, 352.99, 'Uganda')\"\"\")"
   ]
  },
  {
   "cell_type": "code",
   "execution_count": 47,
   "id": "3a4f4065-aba6-4966-ad79-6f88a15014dd",
   "metadata": {},
   "outputs": [
    {
     "name": "stdout",
     "output_type": "stream",
     "text": [
      "('Hipernova', 1, 352.99, 'Uganda')\n",
      "('Lidl', 21, 13.02, 'Rosja')\n",
      "('Tesco', 1435, 0.99, 'Ukraina')\n"
     ]
    }
   ],
   "source": [
    "#wyświetlanie danych z bazy danyh \n",
    "for row in c.execute('SELECT * FROM sklep ORDER BY nazwa'):\n",
    "        print(row)"
   ]
  },
  {
   "cell_type": "code",
   "execution_count": 46,
   "id": "45315efc-e30b-4e3e-ad61-5cd00c7a24c2",
   "metadata": {},
   "outputs": [
    {
     "data": {
      "text/plain": [
       "<sqlite3.Cursor at 0x7fa6f1aff2d0>"
      ]
     },
     "execution_count": 46,
     "metadata": {},
     "output_type": "execute_result"
    }
   ],
   "source": [
    "c.execute('DELETE FROM sklep WHERE nazwa=?', ('Biedronka',))"
   ]
  },
  {
   "cell_type": "code",
   "execution_count": 48,
   "id": "0e9b303b-d39f-4b3e-891a-f62611f61fb5",
   "metadata": {},
   "outputs": [
    {
     "data": {
      "text/plain": [
       "<sqlite3.Cursor at 0x7fa6f1aff2d0>"
      ]
     },
     "execution_count": 48,
     "metadata": {},
     "output_type": "execute_result"
    }
   ],
   "source": [
    "c.execute('UPDATE sklep SET nazwa=? WHERE nazwa=?' ,(\"Biedronka\",\"Lidl\"))"
   ]
  },
  {
   "cell_type": "code",
   "execution_count": 49,
   "id": "7364d0c3-3103-4e85-bf63-6bda0e6b9c6a",
   "metadata": {},
   "outputs": [],
   "source": [
    "c.close()\n",
    "conn.close()"
   ]
  }
 ],
 "metadata": {
  "kernelspec": {
   "display_name": "Python 3 (ipykernel)",
   "language": "python",
   "name": "python3"
  },
  "language_info": {
   "codemirror_mode": {
    "name": "ipython",
    "version": 3
   },
   "file_extension": ".py",
   "mimetype": "text/x-python",
   "name": "python",
   "nbconvert_exporter": "python",
   "pygments_lexer": "ipython3",
   "version": "3.9.7"
  }
 },
 "nbformat": 4,
 "nbformat_minor": 5
}
